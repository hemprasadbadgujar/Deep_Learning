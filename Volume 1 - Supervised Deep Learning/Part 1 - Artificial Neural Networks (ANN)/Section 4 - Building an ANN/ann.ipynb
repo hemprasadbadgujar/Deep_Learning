{
 "cells": [
  {
   "cell_type": "code",
   "execution_count": 1,
   "metadata": {},
   "outputs": [],
   "source": [
    "import numpy as np\n",
    "import matplotlib.pyplot as plt\n",
    "import pandas as pd"
   ]
  },
  {
   "cell_type": "code",
   "execution_count": 2,
   "metadata": {},
   "outputs": [
    {
     "data": {
      "text/plain": [
       "['.DS_Store',\n",
       " '.ipynb_checkpoints',\n",
       " 'ann.ipynb',\n",
       " 'ann.py',\n",
       " 'ann_homework_solution.py',\n",
       " 'categorical_data.py',\n",
       " 'Churn_Modelling.csv',\n",
       " 'classification_template.py',\n",
       " 'evaluating_improving_tuning.py',\n",
       " 'Untitled1.ipynb']"
      ]
     },
     "execution_count": 2,
     "metadata": {},
     "output_type": "execute_result"
    }
   ],
   "source": [
    "import os\n",
    "arr = os.listdir()\n",
    "arr"
   ]
  },
  {
   "cell_type": "code",
   "execution_count": 3,
   "metadata": {},
   "outputs": [],
   "source": [
    "dataset = pd.read_csv('Churn_Modelling.csv')"
   ]
  },
  {
   "cell_type": "code",
   "execution_count": 4,
   "metadata": {},
   "outputs": [],
   "source": [
    "X = dataset.iloc[:, 3:13].values\n",
    "y = dataset.iloc[:, 13].values"
   ]
  },
  {
   "cell_type": "code",
   "execution_count": 5,
   "metadata": {},
   "outputs": [],
   "source": [
    "# Encoding categorical data\n",
    "# Encoding the Independent Variable\n",
    "from sklearn.preprocessing import LabelEncoder, OneHotEncoder\n",
    "from sklearn.compose import ColumnTransformer\n",
    "\n",
    "labelencoder_X1 = LabelEncoder()\n",
    "X[:, 1] = labelencoder_X1.fit_transform(X[:, 1])\n"
   ]
  },
  {
   "cell_type": "code",
   "execution_count": 6,
   "metadata": {},
   "outputs": [],
   "source": [
    "T=X"
   ]
  },
  {
   "cell_type": "code",
   "execution_count": 7,
   "metadata": {},
   "outputs": [],
   "source": [
    "labelencoder_X1 = LabelEncoder()\n",
    "X[:, 2] = labelencoder_X1.fit_transform(X[:, 2])"
   ]
  },
  {
   "cell_type": "code",
   "execution_count": 8,
   "metadata": {},
   "outputs": [
    {
     "data": {
      "text/plain": [
       "array([[619, 0, 0, ..., 1, 1, 101348.88],\n",
       "       [608, 2, 0, ..., 0, 1, 112542.58],\n",
       "       [502, 0, 0, ..., 1, 0, 113931.57],\n",
       "       ...,\n",
       "       [709, 0, 0, ..., 0, 1, 42085.58],\n",
       "       [772, 1, 1, ..., 1, 0, 92888.52],\n",
       "       [792, 0, 0, ..., 1, 0, 38190.78]], dtype=object)"
      ]
     },
     "execution_count": 8,
     "metadata": {},
     "output_type": "execute_result"
    }
   ],
   "source": [
    "X"
   ]
  },
  {
   "cell_type": "code",
   "execution_count": 9,
   "metadata": {},
   "outputs": [
    {
     "data": {
      "text/plain": [
       "OneHotEncoder(categorical_features=[1], categories=None,\n",
       "       dtype=<class 'numpy.float64'>, handle_unknown='error',\n",
       "       n_values=None, sparse=True)"
      ]
     },
     "execution_count": 9,
     "metadata": {},
     "output_type": "execute_result"
    }
   ],
   "source": [
    "onehotencoder = OneHotEncoder(categorical_features = [1])\n",
    "onehotencoder"
   ]
  },
  {
   "cell_type": "code",
   "execution_count": 10,
   "metadata": {},
   "outputs": [
    {
     "name": "stderr",
     "output_type": "stream",
     "text": [
      "C:\\ProgramData\\Anaconda3\\lib\\site-packages\\sklearn\\preprocessing\\_encoders.py:363: FutureWarning: The handling of integer data will change in version 0.22. Currently, the categories are determined based on the range [0, max(values)], while in the future they will be determined based on the unique values.\n",
      "If you want the future behaviour and silence this warning, you can specify \"categories='auto'\".\n",
      "In case you used a LabelEncoder before this OneHotEncoder to convert the categories to integers, then you can now use the OneHotEncoder directly.\n",
      "  warnings.warn(msg, FutureWarning)\n",
      "C:\\ProgramData\\Anaconda3\\lib\\site-packages\\sklearn\\preprocessing\\_encoders.py:385: DeprecationWarning: The 'categorical_features' keyword is deprecated in version 0.20 and will be removed in 0.22. You can use the ColumnTransformer instead.\n",
      "  \"use the ColumnTransformer instead.\", DeprecationWarning)\n"
     ]
    }
   ],
   "source": [
    "X = onehotencoder.fit_transform(X).toarray()"
   ]
  },
  {
   "cell_type": "code",
   "execution_count": 11,
   "metadata": {},
   "outputs": [
    {
     "data": {
      "text/plain": [
       "array([[1.0000000e+00, 0.0000000e+00, 0.0000000e+00, ..., 1.0000000e+00,\n",
       "        1.0000000e+00, 1.0134888e+05],\n",
       "       [0.0000000e+00, 0.0000000e+00, 1.0000000e+00, ..., 0.0000000e+00,\n",
       "        1.0000000e+00, 1.1254258e+05],\n",
       "       [1.0000000e+00, 0.0000000e+00, 0.0000000e+00, ..., 1.0000000e+00,\n",
       "        0.0000000e+00, 1.1393157e+05],\n",
       "       ...,\n",
       "       [1.0000000e+00, 0.0000000e+00, 0.0000000e+00, ..., 0.0000000e+00,\n",
       "        1.0000000e+00, 4.2085580e+04],\n",
       "       [0.0000000e+00, 1.0000000e+00, 0.0000000e+00, ..., 1.0000000e+00,\n",
       "        0.0000000e+00, 9.2888520e+04],\n",
       "       [1.0000000e+00, 0.0000000e+00, 0.0000000e+00, ..., 1.0000000e+00,\n",
       "        0.0000000e+00, 3.8190780e+04]])"
      ]
     },
     "execution_count": 11,
     "metadata": {},
     "output_type": "execute_result"
    }
   ],
   "source": [
    "X"
   ]
  },
  {
   "cell_type": "code",
   "execution_count": 12,
   "metadata": {},
   "outputs": [
    {
     "data": {
      "text/plain": [
       "array([[619, 0, 0, ..., 1, 1, 101348.88],\n",
       "       [608, 2, 0, ..., 0, 1, 112542.58],\n",
       "       [502, 0, 0, ..., 1, 0, 113931.57],\n",
       "       ...,\n",
       "       [709, 0, 0, ..., 0, 1, 42085.58],\n",
       "       [772, 1, 1, ..., 1, 0, 92888.52],\n",
       "       [792, 0, 0, ..., 1, 0, 38190.78]], dtype=object)"
      ]
     },
     "execution_count": 12,
     "metadata": {},
     "output_type": "execute_result"
    }
   ],
   "source": [
    "T"
   ]
  },
  {
   "cell_type": "code",
   "execution_count": 13,
   "metadata": {},
   "outputs": [
    {
     "data": {
      "text/plain": [
       "array([[1.0, 0.0, 0.0, ..., 1, 1, 101348.88],\n",
       "       [0.0, 0.0, 1.0, ..., 0, 1, 112542.58],\n",
       "       [1.0, 0.0, 0.0, ..., 1, 0, 113931.57],\n",
       "       ...,\n",
       "       [1.0, 0.0, 0.0, ..., 0, 1, 42085.58],\n",
       "       [0.0, 1.0, 0.0, ..., 1, 0, 92888.52],\n",
       "       [1.0, 0.0, 0.0, ..., 1, 0, 38190.78]], dtype=object)"
      ]
     },
     "execution_count": 13,
     "metadata": {},
     "output_type": "execute_result"
    }
   ],
   "source": [
    "ct = ColumnTransformer(\n",
    "    [('oh_enc', OneHotEncoder(sparse=False, categories='auto'), [1]),],  # the column numbers I want to apply this to\n",
    "    remainder='passthrough'  # This leaves the rest of my columns in place\n",
    ")\n",
    "\n",
    "ct.fit_transform(T)"
   ]
  },
  {
   "cell_type": "code",
   "execution_count": 14,
   "metadata": {},
   "outputs": [
    {
     "data": {
      "text/plain": [
       "array([[0.0000000e+00, 0.0000000e+00, 6.1900000e+02, ..., 1.0000000e+00,\n",
       "        1.0000000e+00, 1.0134888e+05],\n",
       "       [0.0000000e+00, 1.0000000e+00, 6.0800000e+02, ..., 0.0000000e+00,\n",
       "        1.0000000e+00, 1.1254258e+05],\n",
       "       [0.0000000e+00, 0.0000000e+00, 5.0200000e+02, ..., 1.0000000e+00,\n",
       "        0.0000000e+00, 1.1393157e+05],\n",
       "       ...,\n",
       "       [0.0000000e+00, 0.0000000e+00, 7.0900000e+02, ..., 0.0000000e+00,\n",
       "        1.0000000e+00, 4.2085580e+04],\n",
       "       [1.0000000e+00, 0.0000000e+00, 7.7200000e+02, ..., 1.0000000e+00,\n",
       "        0.0000000e+00, 9.2888520e+04],\n",
       "       [0.0000000e+00, 0.0000000e+00, 7.9200000e+02, ..., 1.0000000e+00,\n",
       "        0.0000000e+00, 3.8190780e+04]])"
      ]
     },
     "execution_count": 14,
     "metadata": {},
     "output_type": "execute_result"
    }
   ],
   "source": [
    "X = X[:, 1:]\n",
    "X"
   ]
  },
  {
   "cell_type": "code",
   "execution_count": 15,
   "metadata": {},
   "outputs": [],
   "source": [
    "# Splitting the dataset into the Training set and Test set\n",
    "from sklearn.model_selection import train_test_split\n",
    "X_train, X_test, y_train, y_test = train_test_split(X, y, test_size = 0.2, random_state = 0)"
   ]
  },
  {
   "cell_type": "code",
   "execution_count": 16,
   "metadata": {},
   "outputs": [],
   "source": [
    "# Feature Scaling\n",
    "from sklearn.preprocessing import StandardScaler\n",
    "sc = StandardScaler()\n",
    "X_train = sc.fit_transform(X_train)\n",
    "X_test = sc.transform(X_test)"
   ]
  },
  {
   "cell_type": "code",
   "execution_count": 17,
   "metadata": {},
   "outputs": [
    {
     "data": {
      "text/plain": [
       "array([[-0.5698444 ,  1.74309049,  0.16958176, ...,  0.64259497,\n",
       "        -1.03227043,  1.10643166],\n",
       "       [ 1.75486502, -0.57369368, -2.30455945, ...,  0.64259497,\n",
       "         0.9687384 , -0.74866447],\n",
       "       [-0.5698444 , -0.57369368, -1.19119591, ...,  0.64259497,\n",
       "        -1.03227043,  1.48533467],\n",
       "       ...,\n",
       "       [-0.5698444 , -0.57369368,  0.9015152 , ...,  0.64259497,\n",
       "        -1.03227043,  1.41231994],\n",
       "       [-0.5698444 ,  1.74309049, -0.62420521, ...,  0.64259497,\n",
       "         0.9687384 ,  0.84432121],\n",
       "       [ 1.75486502, -0.57369368, -0.28401079, ...,  0.64259497,\n",
       "        -1.03227043,  0.32472465]])"
      ]
     },
     "execution_count": 17,
     "metadata": {},
     "output_type": "execute_result"
    }
   ],
   "source": [
    "X_train"
   ]
  },
  {
   "cell_type": "code",
   "execution_count": 18,
   "metadata": {},
   "outputs": [
    {
     "data": {
      "text/plain": [
       "array([[ 1.75486502, -0.57369368, -0.55204276, ...,  0.64259497,\n",
       "         0.9687384 ,  1.61085707],\n",
       "       [-0.5698444 , -0.57369368, -1.31490297, ...,  0.64259497,\n",
       "        -1.03227043,  0.49587037],\n",
       "       [-0.5698444 ,  1.74309049,  0.57162971, ...,  0.64259497,\n",
       "         0.9687384 , -0.42478674],\n",
       "       ...,\n",
       "       [-0.5698444 ,  1.74309049, -0.74791227, ...,  0.64259497,\n",
       "        -1.03227043,  0.71888467],\n",
       "       [ 1.75486502, -0.57369368, -0.00566991, ...,  0.64259497,\n",
       "         0.9687384 , -1.54507805],\n",
       "       [ 1.75486502, -0.57369368, -0.79945688, ...,  0.64259497,\n",
       "        -1.03227043,  1.61255917]])"
      ]
     },
     "execution_count": 18,
     "metadata": {},
     "output_type": "execute_result"
    }
   ],
   "source": [
    "X_test"
   ]
  },
  {
   "cell_type": "code",
   "execution_count": 19,
   "metadata": {},
   "outputs": [
    {
     "name": "stderr",
     "output_type": "stream",
     "text": [
      "Using TensorFlow backend.\n"
     ]
    }
   ],
   "source": [
    "import keras"
   ]
  },
  {
   "cell_type": "code",
   "execution_count": 20,
   "metadata": {},
   "outputs": [],
   "source": [
    "from keras.models import Sequential\n",
    "from keras.layers import Dense"
   ]
  },
  {
   "cell_type": "code",
   "execution_count": 21,
   "metadata": {},
   "outputs": [],
   "source": [
    "# Initialising the ANN\n",
    "classifier = Sequential()"
   ]
  },
  {
   "cell_type": "code",
   "execution_count": 22,
   "metadata": {},
   "outputs": [],
   "source": [
    "# Adding the input layer and the first hidden layer\n",
    "classifier.add(Dense(units = 6, kernel_initializer = 'uniform', activation = 'relu', input_dim = 11))"
   ]
  },
  {
   "cell_type": "code",
   "execution_count": 23,
   "metadata": {},
   "outputs": [],
   "source": [
    "# Adding the second hidden layer\n",
    "classifier.add(Dense(units = 6, kernel_initializer = 'uniform', activation = 'relu'))"
   ]
  },
  {
   "cell_type": "code",
   "execution_count": 24,
   "metadata": {},
   "outputs": [],
   "source": [
    "# Adding the output layer\n",
    "classifier.add(Dense(units = 1, kernel_initializer = 'uniform', activation = 'sigmoid'))"
   ]
  },
  {
   "cell_type": "code",
   "execution_count": 25,
   "metadata": {},
   "outputs": [],
   "source": [
    "# Compiling the ANN\n",
    "classifier.compile(optimizer = 'adam', loss = 'binary_crossentropy', metrics = ['accuracy'])\n"
   ]
  },
  {
   "cell_type": "code",
   "execution_count": 26,
   "metadata": {},
   "outputs": [
    {
     "name": "stdout",
     "output_type": "stream",
     "text": [
      "Epoch 1/100\n",
      "8000/8000 [==============================] - 3s 411us/step - loss: 0.4853 - acc: 0.7956\n",
      "Epoch 2/100\n",
      "8000/8000 [==============================] - 2s 272us/step - loss: 0.4271 - acc: 0.7960\n",
      "Epoch 3/100\n",
      "8000/8000 [==============================] - 2s 263us/step - loss: 0.4218 - acc: 0.7962\n",
      "Epoch 4/100\n",
      "8000/8000 [==============================] - 2s 254us/step - loss: 0.4180 - acc: 0.8234\n",
      "Epoch 5/100\n",
      "8000/8000 [==============================] - 2s 271us/step - loss: 0.4157 - acc: 0.8267\n",
      "Epoch 6/100\n",
      "8000/8000 [==============================] - 2s 277us/step - loss: 0.4138 - acc: 0.8282\n",
      "Epoch 7/100\n",
      "8000/8000 [==============================] - 2s 278us/step - loss: 0.4125 - acc: 0.8320\n",
      "Epoch 8/100\n",
      "8000/8000 [==============================] - 2s 268us/step - loss: 0.4113 - acc: 0.8321\n",
      "Epoch 9/100\n",
      "8000/8000 [==============================] - 2s 244us/step - loss: 0.4101 - acc: 0.8331\n",
      "Epoch 10/100\n",
      "8000/8000 [==============================] - 2s 276us/step - loss: 0.4097 - acc: 0.8341\n",
      "Epoch 11/100\n",
      "8000/8000 [==============================] - 2s 305us/step - loss: 0.4092 - acc: 0.8346\n",
      "Epoch 12/100\n",
      "8000/8000 [==============================] - 3s 314us/step - loss: 0.4080 - acc: 0.8320\n",
      "Epoch 13/100\n",
      "8000/8000 [==============================] - 2s 306us/step - loss: 0.4078 - acc: 0.8342\n",
      "Epoch 14/100\n",
      "8000/8000 [==============================] - 2s 293us/step - loss: 0.4069 - acc: 0.8350\n",
      "Epoch 15/100\n",
      "8000/8000 [==============================] - 3s 342us/step - loss: 0.4066 - acc: 0.8346 0s - loss: 0.4050 - a\n",
      "Epoch 16/100\n",
      "8000/8000 [==============================] - 3s 328us/step - loss: 0.4062 - acc: 0.8352\n",
      "Epoch 17/100\n",
      "8000/8000 [==============================] - 2s 272us/step - loss: 0.4062 - acc: 0.8334\n",
      "Epoch 18/100\n",
      "8000/8000 [==============================] - 2s 280us/step - loss: 0.4058 - acc: 0.8349\n",
      "Epoch 19/100\n",
      "8000/8000 [==============================] - 2s 259us/step - loss: 0.4053 - acc: 0.8344\n",
      "Epoch 20/100\n",
      "8000/8000 [==============================] - 2s 252us/step - loss: 0.4047 - acc: 0.8331\n",
      "Epoch 21/100\n",
      "8000/8000 [==============================] - 3s 314us/step - loss: 0.4043 - acc: 0.8355\n",
      "Epoch 22/100\n",
      "8000/8000 [==============================] - 2s 270us/step - loss: 0.4043 - acc: 0.8345\n",
      "Epoch 23/100\n",
      "8000/8000 [==============================] - 2s 289us/step - loss: 0.4041 - acc: 0.8346\n",
      "Epoch 24/100\n",
      "8000/8000 [==============================] - 3s 341us/step - loss: 0.4036 - acc: 0.8336\n",
      "Epoch 25/100\n",
      "8000/8000 [==============================] - 2s 295us/step - loss: 0.4033 - acc: 0.8332\n",
      "Epoch 26/100\n",
      "8000/8000 [==============================] - 2s 307us/step - loss: 0.4037 - acc: 0.8347\n",
      "Epoch 27/100\n",
      "8000/8000 [==============================] - 2s 308us/step - loss: 0.4027 - acc: 0.8352\n",
      "Epoch 28/100\n",
      "8000/8000 [==============================] - 2s 310us/step - loss: 0.4026 - acc: 0.8351\n",
      "Epoch 29/100\n",
      "8000/8000 [==============================] - 2s 306us/step - loss: 0.4024 - acc: 0.8342\n",
      "Epoch 30/100\n",
      "8000/8000 [==============================] - 2s 250us/step - loss: 0.4019 - acc: 0.8347\n",
      "Epoch 31/100\n",
      "8000/8000 [==============================] - 2s 259us/step - loss: 0.4025 - acc: 0.8351\n",
      "Epoch 32/100\n",
      "8000/8000 [==============================] - 2s 254us/step - loss: 0.4022 - acc: 0.8342\n",
      "Epoch 33/100\n",
      "8000/8000 [==============================] - 2s 259us/step - loss: 0.4024 - acc: 0.8337\n",
      "Epoch 34/100\n",
      "8000/8000 [==============================] - 2s 257us/step - loss: 0.4019 - acc: 0.8345\n",
      "Epoch 35/100\n",
      "8000/8000 [==============================] - 2s 301us/step - loss: 0.4022 - acc: 0.8340\n",
      "Epoch 36/100\n",
      "8000/8000 [==============================] - 2s 296us/step - loss: 0.4016 - acc: 0.8344\n",
      "Epoch 37/100\n",
      "8000/8000 [==============================] - 2s 303us/step - loss: 0.4019 - acc: 0.8347\n",
      "Epoch 38/100\n",
      "8000/8000 [==============================] - 2s 275us/step - loss: 0.4017 - acc: 0.8359 0s - loss: 0.4060 - acc\n",
      "Epoch 39/100\n",
      "8000/8000 [==============================] - 2s 282us/step - loss: 0.4015 - acc: 0.8346\n",
      "Epoch 40/100\n",
      "8000/8000 [==============================] - 2s 268us/step - loss: 0.4018 - acc: 0.8339\n",
      "Epoch 41/100\n",
      "8000/8000 [==============================] - 2s 275us/step - loss: 0.4013 - acc: 0.8337\n",
      "Epoch 42/100\n",
      "8000/8000 [==============================] - 2s 258us/step - loss: 0.4014 - acc: 0.8337\n",
      "Epoch 43/100\n",
      "8000/8000 [==============================] - 2s 247us/step - loss: 0.4013 - acc: 0.8349\n",
      "Epoch 44/100\n",
      "8000/8000 [==============================] - 2s 239us/step - loss: 0.4014 - acc: 0.8340\n",
      "Epoch 45/100\n",
      "8000/8000 [==============================] - 2s 258us/step - loss: 0.4010 - acc: 0.8340\n",
      "Epoch 46/100\n",
      "8000/8000 [==============================] - 2s 269us/step - loss: 0.4013 - acc: 0.8350\n",
      "Epoch 47/100\n",
      "8000/8000 [==============================] - 2s 270us/step - loss: 0.4013 - acc: 0.8347\n",
      "Epoch 48/100\n",
      "8000/8000 [==============================] - 2s 266us/step - loss: 0.4011 - acc: 0.8352\n",
      "Epoch 49/100\n",
      "8000/8000 [==============================] - 2s 278us/step - loss: 0.4006 - acc: 0.8357 0s - loss: 0.3999 - acc: \n",
      "Epoch 50/100\n",
      "8000/8000 [==============================] - 2s 250us/step - loss: 0.4012 - acc: 0.8356\n",
      "Epoch 51/100\n",
      "8000/8000 [==============================] - 2s 279us/step - loss: 0.4009 - acc: 0.8337\n",
      "Epoch 52/100\n",
      "8000/8000 [==============================] - 2s 245us/step - loss: 0.4004 - acc: 0.8345 1s - loss:\n",
      "Epoch 53/100\n",
      "8000/8000 [==============================] - 2s 269us/step - loss: 0.4009 - acc: 0.8347\n",
      "Epoch 54/100\n",
      "8000/8000 [==============================] - 2s 269us/step - loss: 0.4006 - acc: 0.8340\n",
      "Epoch 55/100\n",
      "8000/8000 [==============================] - 2s 283us/step - loss: 0.4009 - acc: 0.8346\n",
      "Epoch 56/100\n",
      "8000/8000 [==============================] - 2s 261us/step - loss: 0.4003 - acc: 0.8351\n",
      "Epoch 57/100\n",
      "8000/8000 [==============================] - 2s 246us/step - loss: 0.4004 - acc: 0.8351\n",
      "Epoch 58/100\n",
      "8000/8000 [==============================] - 2s 276us/step - loss: 0.4007 - acc: 0.8359\n",
      "Epoch 59/100\n",
      "8000/8000 [==============================] - 2s 280us/step - loss: 0.4009 - acc: 0.8359\n",
      "Epoch 60/100\n",
      "8000/8000 [==============================] - 2s 288us/step - loss: 0.4002 - acc: 0.8345\n",
      "Epoch 61/100\n",
      "8000/8000 [==============================] - 2s 304us/step - loss: 0.4004 - acc: 0.8339\n",
      "Epoch 62/100\n",
      "8000/8000 [==============================] - 2s 283us/step - loss: 0.4004 - acc: 0.8365\n",
      "Epoch 63/100\n",
      "8000/8000 [==============================] - 2s 286us/step - loss: 0.4005 - acc: 0.8346\n",
      "Epoch 64/100\n",
      "8000/8000 [==============================] - 2s 255us/step - loss: 0.4008 - acc: 0.8351\n",
      "Epoch 65/100\n",
      "8000/8000 [==============================] - 2s 299us/step - loss: 0.4004 - acc: 0.8350\n",
      "Epoch 66/100\n",
      "8000/8000 [==============================] - 2s 271us/step - loss: 0.4003 - acc: 0.8356\n",
      "Epoch 67/100\n",
      "8000/8000 [==============================] - 2s 278us/step - loss: 0.4004 - acc: 0.8355\n",
      "Epoch 68/100\n",
      "8000/8000 [==============================] - 2s 281us/step - loss: 0.4001 - acc: 0.8346\n",
      "Epoch 69/100\n",
      "8000/8000 [==============================] - 2s 302us/step - loss: 0.4000 - acc: 0.8351 0s - loss: 0.408 - ETA: 0s - loss: 0.4015 - acc: 0.\n",
      "Epoch 70/100\n",
      "8000/8000 [==============================] - 2s 288us/step - loss: 0.4004 - acc: 0.8335\n",
      "Epoch 71/100\n",
      "8000/8000 [==============================] - 3s 314us/step - loss: 0.3999 - acc: 0.8350\n",
      "Epoch 72/100\n",
      "8000/8000 [==============================] - 2s 288us/step - loss: 0.3997 - acc: 0.8345\n",
      "Epoch 73/100\n",
      "8000/8000 [==============================] - 2s 269us/step - loss: 0.3998 - acc: 0.8346\n",
      "Epoch 74/100\n",
      "8000/8000 [==============================] - 2s 290us/step - loss: 0.3996 - acc: 0.8360\n",
      "Epoch 75/100\n",
      "8000/8000 [==============================] - 2s 278us/step - loss: 0.3997 - acc: 0.8352\n",
      "Epoch 76/100\n",
      "8000/8000 [==============================] - 2s 304us/step - loss: 0.3999 - acc: 0.8352\n",
      "Epoch 77/100\n",
      "8000/8000 [==============================] - 3s 318us/step - loss: 0.4001 - acc: 0.8354\n",
      "Epoch 78/100\n",
      "8000/8000 [==============================] - 2s 295us/step - loss: 0.4000 - acc: 0.8349\n",
      "Epoch 79/100\n",
      "8000/8000 [==============================] - 2s 284us/step - loss: 0.3997 - acc: 0.8351\n",
      "Epoch 80/100\n"
     ]
    },
    {
     "name": "stdout",
     "output_type": "stream",
     "text": [
      "8000/8000 [==============================] - 2s 282us/step - loss: 0.4001 - acc: 0.8369\n",
      "Epoch 81/100\n",
      "8000/8000 [==============================] - 2s 295us/step - loss: 0.3996 - acc: 0.8360\n",
      "Epoch 82/100\n",
      "8000/8000 [==============================] - 2s 310us/step - loss: 0.3994 - acc: 0.8344\n",
      "Epoch 83/100\n",
      "8000/8000 [==============================] - 2s 283us/step - loss: 0.3992 - acc: 0.8349\n",
      "Epoch 84/100\n",
      "8000/8000 [==============================] - 3s 313us/step - loss: 0.3998 - acc: 0.8367\n",
      "Epoch 85/100\n",
      "8000/8000 [==============================] - 2s 304us/step - loss: 0.3998 - acc: 0.8354\n",
      "Epoch 86/100\n",
      "8000/8000 [==============================] - 3s 323us/step - loss: 0.3998 - acc: 0.8346\n",
      "Epoch 87/100\n",
      "8000/8000 [==============================] - 3s 335us/step - loss: 0.3996 - acc: 0.8360\n",
      "Epoch 88/100\n",
      "8000/8000 [==============================] - 3s 347us/step - loss: 0.3991 - acc: 0.8347 0s - loss: 0.3928 -\n",
      "Epoch 89/100\n",
      "8000/8000 [==============================] - 3s 378us/step - loss: 0.4000 - acc: 0.8351\n",
      "Epoch 90/100\n",
      "8000/8000 [==============================] - 3s 322us/step - loss: 0.3993 - acc: 0.8347\n",
      "Epoch 91/100\n",
      "8000/8000 [==============================] - 2s 270us/step - loss: 0.3999 - acc: 0.8347\n",
      "Epoch 92/100\n",
      "8000/8000 [==============================] - 2s 301us/step - loss: 0.3997 - acc: 0.8337\n",
      "Epoch 93/100\n",
      "8000/8000 [==============================] - 2s 289us/step - loss: 0.4000 - acc: 0.8345\n",
      "Epoch 94/100\n",
      "8000/8000 [==============================] - 2s 306us/step - loss: 0.3998 - acc: 0.8346\n",
      "Epoch 95/100\n",
      "8000/8000 [==============================] - 2s 257us/step - loss: 0.3995 - acc: 0.8340\n",
      "Epoch 96/100\n",
      "8000/8000 [==============================] - 2s 270us/step - loss: 0.3996 - acc: 0.8342\n",
      "Epoch 97/100\n",
      "8000/8000 [==============================] - 2s 270us/step - loss: 0.3986 - acc: 0.8345\n",
      "Epoch 98/100\n",
      "8000/8000 [==============================] - 2s 288us/step - loss: 0.3994 - acc: 0.8357\n",
      "Epoch 99/100\n",
      "8000/8000 [==============================] - 2s 281us/step - loss: 0.3995 - acc: 0.8355\n",
      "Epoch 100/100\n",
      "8000/8000 [==============================] - 2s 262us/step - loss: 0.3997 - acc: 0.8350\n"
     ]
    },
    {
     "data": {
      "text/plain": [
       "<keras.callbacks.History at 0x1cf4ebc2f98>"
      ]
     },
     "execution_count": 26,
     "metadata": {},
     "output_type": "execute_result"
    }
   ],
   "source": [
    "# Fitting the ANN to the Training set\n",
    "classifier.fit(X_train, y_train, batch_size = 10, epochs = 100)"
   ]
  },
  {
   "cell_type": "code",
   "execution_count": 27,
   "metadata": {},
   "outputs": [],
   "source": [
    "# Predicting the Test set results\n",
    "y_pred = classifier.predict(X_test)"
   ]
  },
  {
   "cell_type": "code",
   "execution_count": 28,
   "metadata": {},
   "outputs": [
    {
     "data": {
      "text/plain": [
       "array([[1543,   52],\n",
       "       [ 255,  150]], dtype=int64)"
      ]
     },
     "execution_count": 28,
     "metadata": {},
     "output_type": "execute_result"
    }
   ],
   "source": [
    "y_pred = (y_pred > 0.5)\n",
    "\n",
    "# Making the Confusion Matrix\n",
    "from sklearn.metrics import confusion_matrix\n",
    "cm = confusion_matrix(y_test, y_pred)\n",
    "cm"
   ]
  },
  {
   "cell_type": "code",
   "execution_count": 29,
   "metadata": {},
   "outputs": [
    {
     "data": {
      "text/plain": [
       "0.841"
      ]
     },
     "execution_count": 29,
     "metadata": {},
     "output_type": "execute_result"
    }
   ],
   "source": [
    "(1531+151)/2000"
   ]
  },
  {
   "cell_type": "code",
   "execution_count": 30,
   "metadata": {},
   "outputs": [
    {
     "data": {
      "text/plain": [
       "array([[False]])"
      ]
     },
     "execution_count": 30,
     "metadata": {},
     "output_type": "execute_result"
    }
   ],
   "source": [
    "# Predicting a single new observation\n",
    "\"\"\"Predict if the customer with the following informations will leave the bank:\n",
    "Geography: France\n",
    "Credit Score: 600\n",
    "Gender: Male\n",
    "Age: 40\n",
    "Tenure: 3\n",
    "Balance: 60000\n",
    "Number of Products: 2\n",
    "Has Credit Card: Yes\n",
    "Is Active Member: Yes\n",
    "Estimated Salary: 50000\"\"\"\n",
    "new_prediction = classifier.predict(sc.transform(np.array([[0.0, 0, 600, 1, 40, 3, 60000, 2, 1, 1, 50000]])))\n",
    "new_prediction = (new_prediction > 0.5)\n",
    "new_prediction"
   ]
  },
  {
   "cell_type": "code",
   "execution_count": 31,
   "metadata": {},
   "outputs": [
    {
     "data": {
      "text/plain": [
       "array([[1543,   52],\n",
       "       [ 255,  150]], dtype=int64)"
      ]
     },
     "execution_count": 31,
     "metadata": {},
     "output_type": "execute_result"
    }
   ],
   "source": [
    "# Making the Confusion Matrix\n",
    "from sklearn.metrics import confusion_matrix\n",
    "cm = confusion_matrix(y_test, y_pred)\n",
    "cm"
   ]
  },
  {
   "cell_type": "raw",
   "metadata": {},
   "source": [
    "# Artificial Neural Network\n",
    "\n",
    "# Installing Theano\n",
    "# pip install --upgrade --no-deps git+git://github.com/Theano/Theano.git\n",
    "\n",
    "# Installing Tensorflow\n",
    "# pip install tensorflow\n",
    "\n",
    "# Installing Keras\n",
    "# pip install --upgrade keras\n",
    "\n",
    "# Part 1 - Data Preprocessing\n",
    "\n",
    "# Importing the libraries\n",
    "\n",
    "import numpy as np\n",
    "import matplotlib.pyplot as plt\n",
    "import pandas as pd\n",
    "\n",
    "\n",
    "\n",
    "# Importing the dataset\n",
    "dataset = pd.read_csv('Churn_Modelling.csv')\n",
    "X = dataset.iloc[:, 3:13].values\n",
    "y = dataset.iloc[:, 13].values\n",
    "\n",
    "# Encoding categorical data\n",
    "from sklearn.preprocessing import LabelEncoder, OneHotEncoder\n",
    "labelencoder_X_1 = LabelEncoder()\n",
    "X[:, 1] = labelencoder_X_1.fit_transform(X[:, 1])\n",
    "labelencoder_X_2 = LabelEncoder()\n",
    "X[:, 2] = labelencoder_X_2.fit_transform(X[:, 2])\n",
    "onehotencoder = OneHotEncoder(categorical_features = [1])\n",
    "X = onehotencoder.fit_transform(X).toarray()\n",
    "X = X[:, 1:]\n",
    "\n",
    "# Splitting the dataset into the Training set and Test set\n",
    "from sklearn.model_selection import train_test_split\n",
    "X_train, X_test, y_train, y_test = train_test_split(X, y, test_size = 0.2, random_state = 0)\n",
    "\n",
    "# Feature Scaling\n",
    "from sklearn.preprocessing import StandardScaler\n",
    "sc = StandardScaler()\n",
    "X_train = sc.fit_transform(X_train)\n",
    "X_test = sc.transform(X_test)\n",
    "\n",
    "# Part 2 - Now let's make the ANN!\n",
    "\n",
    "# Importing the Keras libraries and packages\n",
    "import keras\n",
    "from keras.models import Sequential\n",
    "from keras.layers import Dense\n",
    "\n",
    "# Initialising the ANN\n",
    "classifier = Sequential()\n",
    "\n",
    "# Adding the input layer and the first hidden layer\n",
    "classifier.add(Dense(units = 6, kernel_initializer = 'uniform', activation = 'relu', input_dim = 11))\n",
    "\n",
    "# Adding the second hidden layer\n",
    "classifier.add(Dense(units = 6, kernel_initializer = 'uniform', activation = 'relu'))\n",
    "\n",
    "# Adding the output layer\n",
    "classifier.add(Dense(units = 1, kernel_initializer = 'uniform', activation = 'sigmoid'))\n",
    "\n",
    "# Compiling the ANN\n",
    "classifier.compile(optimizer = 'adam', loss = 'binary_crossentropy', metrics = ['accuracy'])\n",
    "\n",
    "# Fitting the ANN to the Training set\n",
    "classifier.fit(X_train, y_train, batch_size = 10, epochs = 100)\n",
    "\n",
    "# Part 3 - Making predictions and evaluating the model\n",
    "\n",
    "# Predicting the Test set results\n",
    "y_pred = classifier.predict(X_test)\n",
    "y_pred = (y_pred > 0.5)\n",
    "\n",
    "# Making the Confusion Matrix\n",
    "from sklearn.metrics import confusion_matrix\n",
    "cm = confusion_matrix(y_test, y_pred)"
   ]
  },
  {
   "cell_type": "code",
   "execution_count": null,
   "metadata": {},
   "outputs": [],
   "source": []
  }
 ],
 "metadata": {
  "kernelspec": {
   "display_name": "Python 3",
   "language": "python",
   "name": "python3"
  },
  "language_info": {
   "codemirror_mode": {
    "name": "ipython",
    "version": 3
   },
   "file_extension": ".py",
   "mimetype": "text/x-python",
   "name": "python",
   "nbconvert_exporter": "python",
   "pygments_lexer": "ipython3",
   "version": "3.6.7"
  }
 },
 "nbformat": 4,
 "nbformat_minor": 2
}
